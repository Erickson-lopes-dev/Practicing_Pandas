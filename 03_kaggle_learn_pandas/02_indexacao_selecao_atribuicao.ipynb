{
 "cells": [
  {
   "cell_type": "code",
   "execution_count": 4,
   "metadata": {
    "scrolled": true
   },
   "outputs": [
    {
     "data": {
      "text/html": [
       "<div>\n",
       "<style scoped>\n",
       "    .dataframe tbody tr th:only-of-type {\n",
       "        vertical-align: middle;\n",
       "    }\n",
       "\n",
       "    .dataframe tbody tr th {\n",
       "        vertical-align: top;\n",
       "    }\n",
       "\n",
       "    .dataframe thead th {\n",
       "        text-align: right;\n",
       "    }\n",
       "</style>\n",
       "<table border=\"1\" class=\"dataframe\">\n",
       "  <thead>\n",
       "    <tr style=\"text-align: right;\">\n",
       "      <th></th>\n",
       "      <th>nome</th>\n",
       "      <th>idade</th>\n",
       "      <th>email</th>\n",
       "      <th>estado</th>\n",
       "      <th>genero_musical</th>\n",
       "      <th>linguagem</th>\n",
       "    </tr>\n",
       "  </thead>\n",
       "  <tbody>\n",
       "    <tr>\n",
       "      <th>0</th>\n",
       "      <td>Samuel Melo</td>\n",
       "      <td>27</td>\n",
       "      <td>goncalvesdanilo@gmail.com</td>\n",
       "      <td>Espírito Santo</td>\n",
       "      <td>Blues</td>\n",
       "      <td>Python</td>\n",
       "    </tr>\n",
       "    <tr>\n",
       "      <th>1</th>\n",
       "      <td>Henrique da Mata</td>\n",
       "      <td>60</td>\n",
       "      <td>jesusisadora@uol.com.br</td>\n",
       "      <td>Rondônia</td>\n",
       "      <td>Jazz</td>\n",
       "      <td>Java</td>\n",
       "    </tr>\n",
       "    <tr>\n",
       "      <th>2</th>\n",
       "      <td>Luigi Cunha</td>\n",
       "      <td>39</td>\n",
       "      <td>acarvalho@uol.com.br</td>\n",
       "      <td>Minas Gerais</td>\n",
       "      <td>Hip Hop</td>\n",
       "      <td>Python</td>\n",
       "    </tr>\n",
       "    <tr>\n",
       "      <th>3</th>\n",
       "      <td>Dra. Fernanda Novaes</td>\n",
       "      <td>29</td>\n",
       "      <td>ribeiropietra@yahoo.com.br</td>\n",
       "      <td>Amazonas</td>\n",
       "      <td>Sertanejo</td>\n",
       "      <td>Java</td>\n",
       "    </tr>\n",
       "    <tr>\n",
       "      <th>4</th>\n",
       "      <td>Joaquim Ferreira</td>\n",
       "      <td>60</td>\n",
       "      <td>emelo@gmail.com</td>\n",
       "      <td>Distrito Federal</td>\n",
       "      <td>Eletrônica</td>\n",
       "      <td>Java</td>\n",
       "    </tr>\n",
       "    <tr>\n",
       "      <th>...</th>\n",
       "      <td>...</td>\n",
       "      <td>...</td>\n",
       "      <td>...</td>\n",
       "      <td>...</td>\n",
       "      <td>...</td>\n",
       "      <td>...</td>\n",
       "    </tr>\n",
       "    <tr>\n",
       "      <th>195</th>\n",
       "      <td>Vitor Gabriel da Cruz</td>\n",
       "      <td>32</td>\n",
       "      <td>jbarros@uol.com.br</td>\n",
       "      <td>Sergipe</td>\n",
       "      <td>Eletrônica</td>\n",
       "      <td>Python</td>\n",
       "    </tr>\n",
       "    <tr>\n",
       "      <th>196</th>\n",
       "      <td>Letícia Silveira</td>\n",
       "      <td>20</td>\n",
       "      <td>jsilveira@pereira.org</td>\n",
       "      <td>Rio Grande do Norte</td>\n",
       "      <td>Hip Hop</td>\n",
       "      <td>Python</td>\n",
       "    </tr>\n",
       "    <tr>\n",
       "      <th>197</th>\n",
       "      <td>Vitor Hugo Carvalho</td>\n",
       "      <td>65</td>\n",
       "      <td>rodriguesbreno@correia.br</td>\n",
       "      <td>Bahia</td>\n",
       "      <td>Pagode</td>\n",
       "      <td>Python</td>\n",
       "    </tr>\n",
       "    <tr>\n",
       "      <th>198</th>\n",
       "      <td>Davi Lucas Nogueira</td>\n",
       "      <td>56</td>\n",
       "      <td>ada-conceicao@uol.com.br</td>\n",
       "      <td>Minas Gerais</td>\n",
       "      <td>Rock</td>\n",
       "      <td>Java</td>\n",
       "    </tr>\n",
       "    <tr>\n",
       "      <th>199</th>\n",
       "      <td>Luiz Otávio Azevedo</td>\n",
       "      <td>43</td>\n",
       "      <td>maria-sophianogueira@lopes.net</td>\n",
       "      <td>Amapá</td>\n",
       "      <td>Funk</td>\n",
       "      <td>Java</td>\n",
       "    </tr>\n",
       "  </tbody>\n",
       "</table>\n",
       "<p>200 rows × 6 columns</p>\n",
       "</div>"
      ],
      "text/plain": [
       "                      nome  idade                           email  \\\n",
       "0              Samuel Melo     27       goncalvesdanilo@gmail.com   \n",
       "1         Henrique da Mata     60         jesusisadora@uol.com.br   \n",
       "2              Luigi Cunha     39            acarvalho@uol.com.br   \n",
       "3     Dra. Fernanda Novaes     29      ribeiropietra@yahoo.com.br   \n",
       "4         Joaquim Ferreira     60                 emelo@gmail.com   \n",
       "..                     ...    ...                             ...   \n",
       "195  Vitor Gabriel da Cruz     32              jbarros@uol.com.br   \n",
       "196       Letícia Silveira     20           jsilveira@pereira.org   \n",
       "197    Vitor Hugo Carvalho     65       rodriguesbreno@correia.br   \n",
       "198    Davi Lucas Nogueira     56        ada-conceicao@uol.com.br   \n",
       "199    Luiz Otávio Azevedo     43  maria-sophianogueira@lopes.net   \n",
       "\n",
       "                  estado genero_musical linguagem  \n",
       "0         Espírito Santo          Blues    Python  \n",
       "1               Rondônia           Jazz      Java  \n",
       "2           Minas Gerais        Hip Hop    Python  \n",
       "3               Amazonas      Sertanejo      Java  \n",
       "4       Distrito Federal     Eletrônica      Java  \n",
       "..                   ...            ...       ...  \n",
       "195              Sergipe     Eletrônica    Python  \n",
       "196  Rio Grande do Norte        Hip Hop    Python  \n",
       "197                Bahia         Pagode    Python  \n",
       "198         Minas Gerais           Rock      Java  \n",
       "199                Amapá           Funk      Java  \n",
       "\n",
       "[200 rows x 6 columns]"
      ]
     },
     "execution_count": 4,
     "metadata": {},
     "output_type": "execute_result"
    }
   ],
   "source": [
    "import pandas as pd\n",
    "\n",
    "reviews = pd.read_csv('02_data.csv')\n",
    "reviews"
   ]
  },
  {
   "cell_type": "code",
   "execution_count": 11,
   "metadata": {
    "scrolled": true
   },
   "outputs": [
    {
     "data": {
      "text/plain": [
       "0           goncalvesdanilo@gmail.com\n",
       "1             jesusisadora@uol.com.br\n",
       "2                acarvalho@uol.com.br\n",
       "3          ribeiropietra@yahoo.com.br\n",
       "4                     emelo@gmail.com\n",
       "                    ...              \n",
       "195                jbarros@uol.com.br\n",
       "196             jsilveira@pereira.org\n",
       "197         rodriguesbreno@correia.br\n",
       "198          ada-conceicao@uol.com.br\n",
       "199    maria-sophianogueira@lopes.net\n",
       "Name: email, Length: 200, dtype: object"
      ]
     },
     "execution_count": 11,
     "metadata": {},
     "output_type": "execute_result"
    }
   ],
   "source": [
    "# retornando uma coluna\n",
    "\n",
    "reviews.email"
   ]
  },
  {
   "cell_type": "code",
   "execution_count": 12,
   "metadata": {},
   "outputs": [
    {
     "data": {
      "text/plain": [
       "0           goncalvesdanilo@gmail.com\n",
       "1             jesusisadora@uol.com.br\n",
       "2                acarvalho@uol.com.br\n",
       "3          ribeiropietra@yahoo.com.br\n",
       "4                     emelo@gmail.com\n",
       "                    ...              \n",
       "195                jbarros@uol.com.br\n",
       "196             jsilveira@pereira.org\n",
       "197         rodriguesbreno@correia.br\n",
       "198          ada-conceicao@uol.com.br\n",
       "199    maria-sophianogueira@lopes.net\n",
       "Name: email, Length: 200, dtype: object"
      ]
     },
     "execution_count": 12,
     "metadata": {},
     "output_type": "execute_result"
    }
   ],
   "source": [
    "reviews['email']"
   ]
  },
  {
   "cell_type": "code",
   "execution_count": 15,
   "metadata": {},
   "outputs": [
    {
     "data": {
      "text/plain": [
       "'goncalvesdanilo@gmail.com'"
      ]
     },
     "execution_count": 15,
     "metadata": {},
     "output_type": "execute_result"
    }
   ],
   "source": [
    "# retorna o item do index especificado\n",
    "reviews['email'][0]"
   ]
  },
  {
   "cell_type": "code",
   "execution_count": 18,
   "metadata": {},
   "outputs": [
    {
     "data": {
      "text/plain": [
       "nome                            Samuel Melo\n",
       "idade                                    27\n",
       "email             goncalvesdanilo@gmail.com\n",
       "estado                       Espírito Santo\n",
       "genero_musical                        Blues\n",
       "linguagem                            Python\n",
       "Name: 0, dtype: object"
      ]
     },
     "execution_count": 18,
     "metadata": {},
     "output_type": "execute_result"
    }
   ],
   "source": [
    "# ILOC\n",
    "\n",
    "# retorna o primeiro item \n",
    "reviews.iloc[0]"
   ]
  },
  {
   "cell_type": "code",
   "execution_count": 21,
   "metadata": {},
   "outputs": [
    {
     "data": {
      "text/plain": [
       "0                Samuel Melo\n",
       "1           Henrique da Mata\n",
       "2                Luigi Cunha\n",
       "3       Dra. Fernanda Novaes\n",
       "4           Joaquim Ferreira\n",
       "               ...          \n",
       "195    Vitor Gabriel da Cruz\n",
       "196         Letícia Silveira\n",
       "197      Vitor Hugo Carvalho\n",
       "198      Davi Lucas Nogueira\n",
       "199      Luiz Otávio Azevedo\n",
       "Name: nome, Length: 200, dtype: object"
      ]
     },
     "execution_count": 21,
     "metadata": {},
     "output_type": "execute_result"
    }
   ],
   "source": [
    "# Retorna todos da coluna 0\n",
    "reviews.iloc[:, 0]"
   ]
  },
  {
   "cell_type": "code",
   "execution_count": 22,
   "metadata": {},
   "outputs": [
    {
     "data": {
      "text/plain": [
       "0         Samuel Melo\n",
       "1    Henrique da Mata\n",
       "2         Luigi Cunha\n",
       "Name: nome, dtype: object"
      ]
     },
     "execution_count": 22,
     "metadata": {},
     "output_type": "execute_result"
    }
   ],
   "source": [
    "# retorna os 3 primeiros da coluna 0\n",
    "reviews.iloc[:3, 0]"
   ]
  },
  {
   "cell_type": "code",
   "execution_count": 25,
   "metadata": {},
   "outputs": [
    {
     "data": {
      "text/plain": [
       "5         Nicolas da Luz\n",
       "6           Alexia Gomes\n",
       "7    Sra. Catarina Viana\n",
       "8            Júlia Sales\n",
       "9            Igor Farias\n",
       "Name: nome, dtype: object"
      ]
     },
     "execution_count": 25,
     "metadata": {},
     "output_type": "execute_result"
    }
   ],
   "source": [
    "# do index 5 até o index 10 da coluna 0\n",
    "reviews.iloc[5:10, 0]"
   ]
  },
  {
   "cell_type": "code",
   "execution_count": 26,
   "metadata": {},
   "outputs": [
    {
     "data": {
      "text/plain": [
       "1        Henrique da Mata\n",
       "10          Isaac da Mata\n",
       "7     Sra. Catarina Viana\n",
       "Name: nome, dtype: object"
      ]
     },
     "execution_count": 26,
     "metadata": {},
     "output_type": "execute_result"
    }
   ],
   "source": [
    "# selecionar por index\n",
    "reviews.iloc[[1, 10, 7], 0]"
   ]
  },
  {
   "cell_type": "code",
   "execution_count": 29,
   "metadata": {},
   "outputs": [
    {
     "data": {
      "text/html": [
       "<div>\n",
       "<style scoped>\n",
       "    .dataframe tbody tr th:only-of-type {\n",
       "        vertical-align: middle;\n",
       "    }\n",
       "\n",
       "    .dataframe tbody tr th {\n",
       "        vertical-align: top;\n",
       "    }\n",
       "\n",
       "    .dataframe thead th {\n",
       "        text-align: right;\n",
       "    }\n",
       "</style>\n",
       "<table border=\"1\" class=\"dataframe\">\n",
       "  <thead>\n",
       "    <tr style=\"text-align: right;\">\n",
       "      <th></th>\n",
       "      <th>nome</th>\n",
       "      <th>idade</th>\n",
       "      <th>email</th>\n",
       "      <th>estado</th>\n",
       "      <th>genero_musical</th>\n",
       "      <th>linguagem</th>\n",
       "    </tr>\n",
       "  </thead>\n",
       "  <tbody>\n",
       "    <tr>\n",
       "      <th>195</th>\n",
       "      <td>Vitor Gabriel da Cruz</td>\n",
       "      <td>32</td>\n",
       "      <td>jbarros@uol.com.br</td>\n",
       "      <td>Sergipe</td>\n",
       "      <td>Eletrônica</td>\n",
       "      <td>Python</td>\n",
       "    </tr>\n",
       "    <tr>\n",
       "      <th>196</th>\n",
       "      <td>Letícia Silveira</td>\n",
       "      <td>20</td>\n",
       "      <td>jsilveira@pereira.org</td>\n",
       "      <td>Rio Grande do Norte</td>\n",
       "      <td>Hip Hop</td>\n",
       "      <td>Python</td>\n",
       "    </tr>\n",
       "    <tr>\n",
       "      <th>197</th>\n",
       "      <td>Vitor Hugo Carvalho</td>\n",
       "      <td>65</td>\n",
       "      <td>rodriguesbreno@correia.br</td>\n",
       "      <td>Bahia</td>\n",
       "      <td>Pagode</td>\n",
       "      <td>Python</td>\n",
       "    </tr>\n",
       "    <tr>\n",
       "      <th>198</th>\n",
       "      <td>Davi Lucas Nogueira</td>\n",
       "      <td>56</td>\n",
       "      <td>ada-conceicao@uol.com.br</td>\n",
       "      <td>Minas Gerais</td>\n",
       "      <td>Rock</td>\n",
       "      <td>Java</td>\n",
       "    </tr>\n",
       "    <tr>\n",
       "      <th>199</th>\n",
       "      <td>Luiz Otávio Azevedo</td>\n",
       "      <td>43</td>\n",
       "      <td>maria-sophianogueira@lopes.net</td>\n",
       "      <td>Amapá</td>\n",
       "      <td>Funk</td>\n",
       "      <td>Java</td>\n",
       "    </tr>\n",
       "  </tbody>\n",
       "</table>\n",
       "</div>"
      ],
      "text/plain": [
       "                      nome  idade                           email  \\\n",
       "195  Vitor Gabriel da Cruz     32              jbarros@uol.com.br   \n",
       "196       Letícia Silveira     20           jsilveira@pereira.org   \n",
       "197    Vitor Hugo Carvalho     65       rodriguesbreno@correia.br   \n",
       "198    Davi Lucas Nogueira     56        ada-conceicao@uol.com.br   \n",
       "199    Luiz Otávio Azevedo     43  maria-sophianogueira@lopes.net   \n",
       "\n",
       "                  estado genero_musical linguagem  \n",
       "195              Sergipe     Eletrônica    Python  \n",
       "196  Rio Grande do Norte        Hip Hop    Python  \n",
       "197                Bahia         Pagode    Python  \n",
       "198         Minas Gerais           Rock      Java  \n",
       "199                Amapá           Funk      Java  "
      ]
     },
     "execution_count": 29,
     "metadata": {},
     "output_type": "execute_result"
    }
   ],
   "source": [
    "# Retorna os 5 ultimos\n",
    "reviews.iloc[-5:]"
   ]
  },
  {
   "cell_type": "code",
   "execution_count": 30,
   "metadata": {},
   "outputs": [
    {
     "data": {
      "text/plain": [
       "'Samuel Melo'"
      ]
     },
     "execution_count": 30,
     "metadata": {},
     "output_type": "execute_result"
    }
   ],
   "source": [
    "# LOC\n",
    "\n",
    "# index 0 da coluna nome\n",
    "reviews.loc[0, 'nome']"
   ]
  },
  {
   "cell_type": "code",
   "execution_count": 34,
   "metadata": {},
   "outputs": [
    {
     "data": {
      "text/html": [
       "<div>\n",
       "<style scoped>\n",
       "    .dataframe tbody tr th:only-of-type {\n",
       "        vertical-align: middle;\n",
       "    }\n",
       "\n",
       "    .dataframe tbody tr th {\n",
       "        vertical-align: top;\n",
       "    }\n",
       "\n",
       "    .dataframe thead th {\n",
       "        text-align: right;\n",
       "    }\n",
       "</style>\n",
       "<table border=\"1\" class=\"dataframe\">\n",
       "  <thead>\n",
       "    <tr style=\"text-align: right;\">\n",
       "      <th></th>\n",
       "      <th>nome</th>\n",
       "      <th>idade</th>\n",
       "      <th>linguagem</th>\n",
       "    </tr>\n",
       "  </thead>\n",
       "  <tbody>\n",
       "    <tr>\n",
       "      <th>0</th>\n",
       "      <td>Samuel Melo</td>\n",
       "      <td>27</td>\n",
       "      <td>Python</td>\n",
       "    </tr>\n",
       "    <tr>\n",
       "      <th>1</th>\n",
       "      <td>Henrique da Mata</td>\n",
       "      <td>60</td>\n",
       "      <td>Java</td>\n",
       "    </tr>\n",
       "    <tr>\n",
       "      <th>2</th>\n",
       "      <td>Luigi Cunha</td>\n",
       "      <td>39</td>\n",
       "      <td>Python</td>\n",
       "    </tr>\n",
       "    <tr>\n",
       "      <th>3</th>\n",
       "      <td>Dra. Fernanda Novaes</td>\n",
       "      <td>29</td>\n",
       "      <td>Java</td>\n",
       "    </tr>\n",
       "    <tr>\n",
       "      <th>4</th>\n",
       "      <td>Joaquim Ferreira</td>\n",
       "      <td>60</td>\n",
       "      <td>Java</td>\n",
       "    </tr>\n",
       "    <tr>\n",
       "      <th>...</th>\n",
       "      <td>...</td>\n",
       "      <td>...</td>\n",
       "      <td>...</td>\n",
       "    </tr>\n",
       "    <tr>\n",
       "      <th>195</th>\n",
       "      <td>Vitor Gabriel da Cruz</td>\n",
       "      <td>32</td>\n",
       "      <td>Python</td>\n",
       "    </tr>\n",
       "    <tr>\n",
       "      <th>196</th>\n",
       "      <td>Letícia Silveira</td>\n",
       "      <td>20</td>\n",
       "      <td>Python</td>\n",
       "    </tr>\n",
       "    <tr>\n",
       "      <th>197</th>\n",
       "      <td>Vitor Hugo Carvalho</td>\n",
       "      <td>65</td>\n",
       "      <td>Python</td>\n",
       "    </tr>\n",
       "    <tr>\n",
       "      <th>198</th>\n",
       "      <td>Davi Lucas Nogueira</td>\n",
       "      <td>56</td>\n",
       "      <td>Java</td>\n",
       "    </tr>\n",
       "    <tr>\n",
       "      <th>199</th>\n",
       "      <td>Luiz Otávio Azevedo</td>\n",
       "      <td>43</td>\n",
       "      <td>Java</td>\n",
       "    </tr>\n",
       "  </tbody>\n",
       "</table>\n",
       "<p>200 rows × 3 columns</p>\n",
       "</div>"
      ],
      "text/plain": [
       "                      nome  idade linguagem\n",
       "0              Samuel Melo     27    Python\n",
       "1         Henrique da Mata     60      Java\n",
       "2              Luigi Cunha     39    Python\n",
       "3     Dra. Fernanda Novaes     29      Java\n",
       "4         Joaquim Ferreira     60      Java\n",
       "..                     ...    ...       ...\n",
       "195  Vitor Gabriel da Cruz     32    Python\n",
       "196       Letícia Silveira     20    Python\n",
       "197    Vitor Hugo Carvalho     65    Python\n",
       "198    Davi Lucas Nogueira     56      Java\n",
       "199    Luiz Otávio Azevedo     43      Java\n",
       "\n",
       "[200 rows x 3 columns]"
      ]
     },
     "execution_count": 34,
     "metadata": {},
     "output_type": "execute_result"
    }
   ],
   "source": [
    "# Retornar apenas as colunas especificadas\n",
    "\n",
    "reviews.loc[:, ['nome', 'idade', 'linguagem']]"
   ]
  },
  {
   "cell_type": "code",
   "execution_count": 35,
   "metadata": {},
   "outputs": [
    {
     "data": {
      "text/html": [
       "<div>\n",
       "<style scoped>\n",
       "    .dataframe tbody tr th:only-of-type {\n",
       "        vertical-align: middle;\n",
       "    }\n",
       "\n",
       "    .dataframe tbody tr th {\n",
       "        vertical-align: top;\n",
       "    }\n",
       "\n",
       "    .dataframe thead th {\n",
       "        text-align: right;\n",
       "    }\n",
       "</style>\n",
       "<table border=\"1\" class=\"dataframe\">\n",
       "  <thead>\n",
       "    <tr style=\"text-align: right;\">\n",
       "      <th></th>\n",
       "      <th>idade</th>\n",
       "      <th>email</th>\n",
       "      <th>estado</th>\n",
       "      <th>genero_musical</th>\n",
       "      <th>linguagem</th>\n",
       "    </tr>\n",
       "    <tr>\n",
       "      <th>nome</th>\n",
       "      <th></th>\n",
       "      <th></th>\n",
       "      <th></th>\n",
       "      <th></th>\n",
       "      <th></th>\n",
       "    </tr>\n",
       "  </thead>\n",
       "  <tbody>\n",
       "    <tr>\n",
       "      <th>Samuel Melo</th>\n",
       "      <td>27</td>\n",
       "      <td>goncalvesdanilo@gmail.com</td>\n",
       "      <td>Espírito Santo</td>\n",
       "      <td>Blues</td>\n",
       "      <td>Python</td>\n",
       "    </tr>\n",
       "    <tr>\n",
       "      <th>Henrique da Mata</th>\n",
       "      <td>60</td>\n",
       "      <td>jesusisadora@uol.com.br</td>\n",
       "      <td>Rondônia</td>\n",
       "      <td>Jazz</td>\n",
       "      <td>Java</td>\n",
       "    </tr>\n",
       "    <tr>\n",
       "      <th>Luigi Cunha</th>\n",
       "      <td>39</td>\n",
       "      <td>acarvalho@uol.com.br</td>\n",
       "      <td>Minas Gerais</td>\n",
       "      <td>Hip Hop</td>\n",
       "      <td>Python</td>\n",
       "    </tr>\n",
       "    <tr>\n",
       "      <th>Dra. Fernanda Novaes</th>\n",
       "      <td>29</td>\n",
       "      <td>ribeiropietra@yahoo.com.br</td>\n",
       "      <td>Amazonas</td>\n",
       "      <td>Sertanejo</td>\n",
       "      <td>Java</td>\n",
       "    </tr>\n",
       "    <tr>\n",
       "      <th>Joaquim Ferreira</th>\n",
       "      <td>60</td>\n",
       "      <td>emelo@gmail.com</td>\n",
       "      <td>Distrito Federal</td>\n",
       "      <td>Eletrônica</td>\n",
       "      <td>Java</td>\n",
       "    </tr>\n",
       "    <tr>\n",
       "      <th>...</th>\n",
       "      <td>...</td>\n",
       "      <td>...</td>\n",
       "      <td>...</td>\n",
       "      <td>...</td>\n",
       "      <td>...</td>\n",
       "    </tr>\n",
       "    <tr>\n",
       "      <th>Vitor Gabriel da Cruz</th>\n",
       "      <td>32</td>\n",
       "      <td>jbarros@uol.com.br</td>\n",
       "      <td>Sergipe</td>\n",
       "      <td>Eletrônica</td>\n",
       "      <td>Python</td>\n",
       "    </tr>\n",
       "    <tr>\n",
       "      <th>Letícia Silveira</th>\n",
       "      <td>20</td>\n",
       "      <td>jsilveira@pereira.org</td>\n",
       "      <td>Rio Grande do Norte</td>\n",
       "      <td>Hip Hop</td>\n",
       "      <td>Python</td>\n",
       "    </tr>\n",
       "    <tr>\n",
       "      <th>Vitor Hugo Carvalho</th>\n",
       "      <td>65</td>\n",
       "      <td>rodriguesbreno@correia.br</td>\n",
       "      <td>Bahia</td>\n",
       "      <td>Pagode</td>\n",
       "      <td>Python</td>\n",
       "    </tr>\n",
       "    <tr>\n",
       "      <th>Davi Lucas Nogueira</th>\n",
       "      <td>56</td>\n",
       "      <td>ada-conceicao@uol.com.br</td>\n",
       "      <td>Minas Gerais</td>\n",
       "      <td>Rock</td>\n",
       "      <td>Java</td>\n",
       "    </tr>\n",
       "    <tr>\n",
       "      <th>Luiz Otávio Azevedo</th>\n",
       "      <td>43</td>\n",
       "      <td>maria-sophianogueira@lopes.net</td>\n",
       "      <td>Amapá</td>\n",
       "      <td>Funk</td>\n",
       "      <td>Java</td>\n",
       "    </tr>\n",
       "  </tbody>\n",
       "</table>\n",
       "<p>200 rows × 5 columns</p>\n",
       "</div>"
      ],
      "text/plain": [
       "                       idade                           email  \\\n",
       "nome                                                           \n",
       "Samuel Melo               27       goncalvesdanilo@gmail.com   \n",
       "Henrique da Mata          60         jesusisadora@uol.com.br   \n",
       "Luigi Cunha               39            acarvalho@uol.com.br   \n",
       "Dra. Fernanda Novaes      29      ribeiropietra@yahoo.com.br   \n",
       "Joaquim Ferreira          60                 emelo@gmail.com   \n",
       "...                      ...                             ...   \n",
       "Vitor Gabriel da Cruz     32              jbarros@uol.com.br   \n",
       "Letícia Silveira          20           jsilveira@pereira.org   \n",
       "Vitor Hugo Carvalho       65       rodriguesbreno@correia.br   \n",
       "Davi Lucas Nogueira       56        ada-conceicao@uol.com.br   \n",
       "Luiz Otávio Azevedo       43  maria-sophianogueira@lopes.net   \n",
       "\n",
       "                                    estado genero_musical linguagem  \n",
       "nome                                                                 \n",
       "Samuel Melo                 Espírito Santo          Blues    Python  \n",
       "Henrique da Mata                  Rondônia           Jazz      Java  \n",
       "Luigi Cunha                   Minas Gerais        Hip Hop    Python  \n",
       "Dra. Fernanda Novaes              Amazonas      Sertanejo      Java  \n",
       "Joaquim Ferreira          Distrito Federal     Eletrônica      Java  \n",
       "...                                    ...            ...       ...  \n",
       "Vitor Gabriel da Cruz              Sergipe     Eletrônica    Python  \n",
       "Letícia Silveira       Rio Grande do Norte        Hip Hop    Python  \n",
       "Vitor Hugo Carvalho                  Bahia         Pagode    Python  \n",
       "Davi Lucas Nogueira           Minas Gerais           Rock      Java  \n",
       "Luiz Otávio Azevedo                  Amapá           Funk      Java  \n",
       "\n",
       "[200 rows x 5 columns]"
      ]
     },
     "execution_count": 35,
     "metadata": {},
     "output_type": "execute_result"
    }
   ],
   "source": [
    "# Manipulando por index\n",
    "\n",
    "# trocando uma coluna por index\n",
    "reviews.set_index('nome')"
   ]
  },
  {
   "cell_type": "code",
   "execution_count": null,
   "metadata": {},
   "outputs": [],
   "source": []
  },
  {
   "cell_type": "code",
   "execution_count": null,
   "metadata": {},
   "outputs": [],
   "source": []
  }
 ],
 "metadata": {
  "kernelspec": {
   "display_name": "Python 3",
   "language": "python",
   "name": "python3"
  },
  "language_info": {
   "codemirror_mode": {
    "name": "ipython",
    "version": 3
   },
   "file_extension": ".py",
   "mimetype": "text/x-python",
   "name": "python",
   "nbconvert_exporter": "python",
   "pygments_lexer": "ipython3",
   "version": "3.8.5"
  }
 },
 "nbformat": 4,
 "nbformat_minor": 4
}
