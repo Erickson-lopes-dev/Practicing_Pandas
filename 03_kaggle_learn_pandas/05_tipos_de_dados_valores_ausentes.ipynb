{
 "cells": [
  {
   "cell_type": "code",
   "execution_count": 11,
   "metadata": {},
   "outputs": [
    {
     "data": {
      "text/html": [
       "<div>\n",
       "<style scoped>\n",
       "    .dataframe tbody tr th:only-of-type {\n",
       "        vertical-align: middle;\n",
       "    }\n",
       "\n",
       "    .dataframe tbody tr th {\n",
       "        vertical-align: top;\n",
       "    }\n",
       "\n",
       "    .dataframe thead th {\n",
       "        text-align: right;\n",
       "    }\n",
       "</style>\n",
       "<table border=\"1\" class=\"dataframe\">\n",
       "  <thead>\n",
       "    <tr style=\"text-align: right;\">\n",
       "      <th></th>\n",
       "      <th>nome</th>\n",
       "      <th>idade</th>\n",
       "      <th>email</th>\n",
       "      <th>estado</th>\n",
       "      <th>genero_musical</th>\n",
       "      <th>linguagem</th>\n",
       "    </tr>\n",
       "  </thead>\n",
       "  <tbody>\n",
       "    <tr>\n",
       "      <th>0</th>\n",
       "      <td>Samuel Melo</td>\n",
       "      <td>NaN</td>\n",
       "      <td>goncalvesdanilo@gmail.com</td>\n",
       "      <td>Espírito Santo</td>\n",
       "      <td>Blues</td>\n",
       "      <td>Python</td>\n",
       "    </tr>\n",
       "    <tr>\n",
       "      <th>1</th>\n",
       "      <td>Henrique da Mata</td>\n",
       "      <td>NaN</td>\n",
       "      <td>jesusisadora@uol.com.br</td>\n",
       "      <td>Rondônia</td>\n",
       "      <td>Jazz</td>\n",
       "      <td>Java</td>\n",
       "    </tr>\n",
       "    <tr>\n",
       "      <th>2</th>\n",
       "      <td>Luigi Cunha</td>\n",
       "      <td>39.0</td>\n",
       "      <td>acarvalho@uol.com.br</td>\n",
       "      <td>Minas Gerais</td>\n",
       "      <td>Hip Hop</td>\n",
       "      <td>Python</td>\n",
       "    </tr>\n",
       "    <tr>\n",
       "      <th>3</th>\n",
       "      <td>Dra. Fernanda Novaes</td>\n",
       "      <td>29.0</td>\n",
       "      <td>ribeiropietra@yahoo.com.br</td>\n",
       "      <td>Amazonas</td>\n",
       "      <td>Sertanejo</td>\n",
       "      <td>Java</td>\n",
       "    </tr>\n",
       "    <tr>\n",
       "      <th>4</th>\n",
       "      <td>Joaquim Ferreira</td>\n",
       "      <td>60.0</td>\n",
       "      <td>emelo@gmail.com</td>\n",
       "      <td>Distrito Federal</td>\n",
       "      <td>Eletrônica</td>\n",
       "      <td>Java</td>\n",
       "    </tr>\n",
       "    <tr>\n",
       "      <th>...</th>\n",
       "      <td>...</td>\n",
       "      <td>...</td>\n",
       "      <td>...</td>\n",
       "      <td>...</td>\n",
       "      <td>...</td>\n",
       "      <td>...</td>\n",
       "    </tr>\n",
       "    <tr>\n",
       "      <th>195</th>\n",
       "      <td>Vitor Gabriel da Cruz</td>\n",
       "      <td>32.0</td>\n",
       "      <td>jbarros@uol.com.br</td>\n",
       "      <td>Sergipe</td>\n",
       "      <td>Eletrônica</td>\n",
       "      <td>Python</td>\n",
       "    </tr>\n",
       "    <tr>\n",
       "      <th>196</th>\n",
       "      <td>Letícia Silveira</td>\n",
       "      <td>20.0</td>\n",
       "      <td>jsilveira@pereira.org</td>\n",
       "      <td>Rio Grande do Norte</td>\n",
       "      <td>Hip Hop</td>\n",
       "      <td>Python</td>\n",
       "    </tr>\n",
       "    <tr>\n",
       "      <th>197</th>\n",
       "      <td>Vitor Hugo Carvalho</td>\n",
       "      <td>65.0</td>\n",
       "      <td>rodriguesbreno@correia.br</td>\n",
       "      <td>Bahia</td>\n",
       "      <td>Pagode</td>\n",
       "      <td>Python</td>\n",
       "    </tr>\n",
       "    <tr>\n",
       "      <th>198</th>\n",
       "      <td>Davi Lucas Nogueira</td>\n",
       "      <td>56.0</td>\n",
       "      <td>ada-conceicao@uol.com.br</td>\n",
       "      <td>Minas Gerais</td>\n",
       "      <td>Rock</td>\n",
       "      <td>Java</td>\n",
       "    </tr>\n",
       "    <tr>\n",
       "      <th>199</th>\n",
       "      <td>Luiz Otávio Azevedo</td>\n",
       "      <td>43.0</td>\n",
       "      <td>maria-sophianogueira@lopes.net</td>\n",
       "      <td>Amapá</td>\n",
       "      <td>Funk</td>\n",
       "      <td>Java</td>\n",
       "    </tr>\n",
       "  </tbody>\n",
       "</table>\n",
       "<p>200 rows × 6 columns</p>\n",
       "</div>"
      ],
      "text/plain": [
       "                      nome  idade                           email  \\\n",
       "0              Samuel Melo    NaN       goncalvesdanilo@gmail.com   \n",
       "1         Henrique da Mata    NaN         jesusisadora@uol.com.br   \n",
       "2              Luigi Cunha   39.0            acarvalho@uol.com.br   \n",
       "3     Dra. Fernanda Novaes   29.0      ribeiropietra@yahoo.com.br   \n",
       "4         Joaquim Ferreira   60.0                 emelo@gmail.com   \n",
       "..                     ...    ...                             ...   \n",
       "195  Vitor Gabriel da Cruz   32.0              jbarros@uol.com.br   \n",
       "196       Letícia Silveira   20.0           jsilveira@pereira.org   \n",
       "197    Vitor Hugo Carvalho   65.0       rodriguesbreno@correia.br   \n",
       "198    Davi Lucas Nogueira   56.0        ada-conceicao@uol.com.br   \n",
       "199    Luiz Otávio Azevedo   43.0  maria-sophianogueira@lopes.net   \n",
       "\n",
       "                  estado genero_musical linguagem  \n",
       "0         Espírito Santo          Blues    Python  \n",
       "1               Rondônia           Jazz      Java  \n",
       "2           Minas Gerais        Hip Hop    Python  \n",
       "3               Amazonas      Sertanejo      Java  \n",
       "4       Distrito Federal     Eletrônica      Java  \n",
       "..                   ...            ...       ...  \n",
       "195              Sergipe     Eletrônica    Python  \n",
       "196  Rio Grande do Norte        Hip Hop    Python  \n",
       "197                Bahia         Pagode    Python  \n",
       "198         Minas Gerais           Rock      Java  \n",
       "199                Amapá           Funk      Java  \n",
       "\n",
       "[200 rows x 6 columns]"
      ]
     },
     "execution_count": 11,
     "metadata": {},
     "output_type": "execute_result"
    }
   ],
   "source": [
    "import pandas as pd\n",
    "\n",
    "reviews = pd.read_csv('02_data.csv')\n",
    "reviews"
   ]
  },
  {
   "cell_type": "code",
   "execution_count": 5,
   "metadata": {
    "scrolled": true
   },
   "outputs": [
    {
     "data": {
      "text/plain": [
       "0      27.0\n",
       "1      60.0\n",
       "2      39.0\n",
       "3      29.0\n",
       "4      60.0\n",
       "       ... \n",
       "195    32.0\n",
       "196    20.0\n",
       "197    65.0\n",
       "198    56.0\n",
       "199    43.0\n",
       "Name: idade, Length: 200, dtype: float64"
      ]
     },
     "execution_count": 5,
     "metadata": {},
     "output_type": "execute_result"
    }
   ],
   "source": [
    "# trocando ripo de dado\n",
    "reviews.idade.astype('float64')"
   ]
  },
  {
   "cell_type": "code",
   "execution_count": 7,
   "metadata": {},
   "outputs": [
    {
     "data": {
      "text/plain": [
       "dtype('int64')"
      ]
     },
     "execution_count": 7,
     "metadata": {},
     "output_type": "execute_result"
    }
   ],
   "source": [
    "# exibindo qual tipo de dado\n",
    "reviews.idade.dtype"
   ]
  },
  {
   "cell_type": "code",
   "execution_count": 13,
   "metadata": {},
   "outputs": [
    {
     "data": {
      "text/plain": [
       "0      Unknown\n",
       "1      Unknown\n",
       "2           39\n",
       "3           29\n",
       "4           60\n",
       "        ...   \n",
       "195         32\n",
       "196         20\n",
       "197         65\n",
       "198         56\n",
       "199         43\n",
       "Name: idade, Length: 200, dtype: object"
      ]
     },
     "execution_count": 13,
     "metadata": {},
     "output_type": "execute_result"
    }
   ],
   "source": [
    "# troca os valores nulos \n",
    "reviews.idade.fillna(\"Unknown\")"
   ]
  },
  {
   "cell_type": "code",
   "execution_count": 16,
   "metadata": {
    "scrolled": true
   },
   "outputs": [
    {
     "data": {
      "text/plain": [
       "0      SAMBA DO BOM\n",
       "1              Jazz\n",
       "2           Hip Hop\n",
       "3         Sertanejo\n",
       "4        Eletrônica\n",
       "           ...     \n",
       "195      Eletrônica\n",
       "196         Hip Hop\n",
       "197          Pagode\n",
       "198            Rock\n",
       "199            Funk\n",
       "Name: genero_musical, Length: 200, dtype: object"
      ]
     },
     "execution_count": 16,
     "metadata": {},
     "output_type": "execute_result"
    }
   ],
   "source": [
    "reviews.genero_musical.replace('Blues', 'SAMBA DO BOM')"
   ]
  }
 ],
 "metadata": {
  "kernelspec": {
   "display_name": "Python 3",
   "language": "python",
   "name": "python3"
  },
  "language_info": {
   "codemirror_mode": {
    "name": "ipython",
    "version": 3
   },
   "file_extension": ".py",
   "mimetype": "text/x-python",
   "name": "python",
   "nbconvert_exporter": "python",
   "pygments_lexer": "ipython3",
   "version": "3.8.5"
  }
 },
 "nbformat": 4,
 "nbformat_minor": 4
}
