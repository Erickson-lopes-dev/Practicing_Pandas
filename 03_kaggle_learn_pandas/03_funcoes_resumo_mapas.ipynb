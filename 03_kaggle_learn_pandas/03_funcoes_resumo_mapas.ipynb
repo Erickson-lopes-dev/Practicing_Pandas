{
 "cells": [
  {
   "cell_type": "code",
   "execution_count": 2,
   "metadata": {},
   "outputs": [
    {
     "data": {
      "text/html": [
       "<div>\n",
       "<style scoped>\n",
       "    .dataframe tbody tr th:only-of-type {\n",
       "        vertical-align: middle;\n",
       "    }\n",
       "\n",
       "    .dataframe tbody tr th {\n",
       "        vertical-align: top;\n",
       "    }\n",
       "\n",
       "    .dataframe thead th {\n",
       "        text-align: right;\n",
       "    }\n",
       "</style>\n",
       "<table border=\"1\" class=\"dataframe\">\n",
       "  <thead>\n",
       "    <tr style=\"text-align: right;\">\n",
       "      <th></th>\n",
       "      <th>nome</th>\n",
       "      <th>idade</th>\n",
       "      <th>email</th>\n",
       "      <th>estado</th>\n",
       "      <th>genero_musical</th>\n",
       "      <th>linguagem</th>\n",
       "    </tr>\n",
       "  </thead>\n",
       "  <tbody>\n",
       "    <tr>\n",
       "      <th>0</th>\n",
       "      <td>Samuel Melo</td>\n",
       "      <td>27</td>\n",
       "      <td>goncalvesdanilo@gmail.com</td>\n",
       "      <td>Espírito Santo</td>\n",
       "      <td>Blues</td>\n",
       "      <td>Python</td>\n",
       "    </tr>\n",
       "    <tr>\n",
       "      <th>1</th>\n",
       "      <td>Henrique da Mata</td>\n",
       "      <td>60</td>\n",
       "      <td>jesusisadora@uol.com.br</td>\n",
       "      <td>Rondônia</td>\n",
       "      <td>Jazz</td>\n",
       "      <td>Java</td>\n",
       "    </tr>\n",
       "    <tr>\n",
       "      <th>2</th>\n",
       "      <td>Luigi Cunha</td>\n",
       "      <td>39</td>\n",
       "      <td>acarvalho@uol.com.br</td>\n",
       "      <td>Minas Gerais</td>\n",
       "      <td>Hip Hop</td>\n",
       "      <td>Python</td>\n",
       "    </tr>\n",
       "    <tr>\n",
       "      <th>3</th>\n",
       "      <td>Dra. Fernanda Novaes</td>\n",
       "      <td>29</td>\n",
       "      <td>ribeiropietra@yahoo.com.br</td>\n",
       "      <td>Amazonas</td>\n",
       "      <td>Sertanejo</td>\n",
       "      <td>Java</td>\n",
       "    </tr>\n",
       "    <tr>\n",
       "      <th>4</th>\n",
       "      <td>Joaquim Ferreira</td>\n",
       "      <td>60</td>\n",
       "      <td>emelo@gmail.com</td>\n",
       "      <td>Distrito Federal</td>\n",
       "      <td>Eletrônica</td>\n",
       "      <td>Java</td>\n",
       "    </tr>\n",
       "    <tr>\n",
       "      <th>...</th>\n",
       "      <td>...</td>\n",
       "      <td>...</td>\n",
       "      <td>...</td>\n",
       "      <td>...</td>\n",
       "      <td>...</td>\n",
       "      <td>...</td>\n",
       "    </tr>\n",
       "    <tr>\n",
       "      <th>195</th>\n",
       "      <td>Vitor Gabriel da Cruz</td>\n",
       "      <td>32</td>\n",
       "      <td>jbarros@uol.com.br</td>\n",
       "      <td>Sergipe</td>\n",
       "      <td>Eletrônica</td>\n",
       "      <td>Python</td>\n",
       "    </tr>\n",
       "    <tr>\n",
       "      <th>196</th>\n",
       "      <td>Letícia Silveira</td>\n",
       "      <td>20</td>\n",
       "      <td>jsilveira@pereira.org</td>\n",
       "      <td>Rio Grande do Norte</td>\n",
       "      <td>Hip Hop</td>\n",
       "      <td>Python</td>\n",
       "    </tr>\n",
       "    <tr>\n",
       "      <th>197</th>\n",
       "      <td>Vitor Hugo Carvalho</td>\n",
       "      <td>65</td>\n",
       "      <td>rodriguesbreno@correia.br</td>\n",
       "      <td>Bahia</td>\n",
       "      <td>Pagode</td>\n",
       "      <td>Python</td>\n",
       "    </tr>\n",
       "    <tr>\n",
       "      <th>198</th>\n",
       "      <td>Davi Lucas Nogueira</td>\n",
       "      <td>56</td>\n",
       "      <td>ada-conceicao@uol.com.br</td>\n",
       "      <td>Minas Gerais</td>\n",
       "      <td>Rock</td>\n",
       "      <td>Java</td>\n",
       "    </tr>\n",
       "    <tr>\n",
       "      <th>199</th>\n",
       "      <td>Luiz Otávio Azevedo</td>\n",
       "      <td>43</td>\n",
       "      <td>maria-sophianogueira@lopes.net</td>\n",
       "      <td>Amapá</td>\n",
       "      <td>Funk</td>\n",
       "      <td>Java</td>\n",
       "    </tr>\n",
       "  </tbody>\n",
       "</table>\n",
       "<p>200 rows × 6 columns</p>\n",
       "</div>"
      ],
      "text/plain": [
       "                      nome  idade                           email  \\\n",
       "0              Samuel Melo     27       goncalvesdanilo@gmail.com   \n",
       "1         Henrique da Mata     60         jesusisadora@uol.com.br   \n",
       "2              Luigi Cunha     39            acarvalho@uol.com.br   \n",
       "3     Dra. Fernanda Novaes     29      ribeiropietra@yahoo.com.br   \n",
       "4         Joaquim Ferreira     60                 emelo@gmail.com   \n",
       "..                     ...    ...                             ...   \n",
       "195  Vitor Gabriel da Cruz     32              jbarros@uol.com.br   \n",
       "196       Letícia Silveira     20           jsilveira@pereira.org   \n",
       "197    Vitor Hugo Carvalho     65       rodriguesbreno@correia.br   \n",
       "198    Davi Lucas Nogueira     56        ada-conceicao@uol.com.br   \n",
       "199    Luiz Otávio Azevedo     43  maria-sophianogueira@lopes.net   \n",
       "\n",
       "                  estado genero_musical linguagem  \n",
       "0         Espírito Santo          Blues    Python  \n",
       "1               Rondônia           Jazz      Java  \n",
       "2           Minas Gerais        Hip Hop    Python  \n",
       "3               Amazonas      Sertanejo      Java  \n",
       "4       Distrito Federal     Eletrônica      Java  \n",
       "..                   ...            ...       ...  \n",
       "195              Sergipe     Eletrônica    Python  \n",
       "196  Rio Grande do Norte        Hip Hop    Python  \n",
       "197                Bahia         Pagode    Python  \n",
       "198         Minas Gerais           Rock      Java  \n",
       "199                Amapá           Funk      Java  \n",
       "\n",
       "[200 rows x 6 columns]"
      ]
     },
     "execution_count": 2,
     "metadata": {},
     "output_type": "execute_result"
    }
   ],
   "source": [
    "import pandas as pd\n",
    "\n",
    "reviews = pd.read_csv('02_data.csv')\n",
    "reviews"
   ]
  },
  {
   "cell_type": "code",
   "execution_count": 4,
   "metadata": {},
   "outputs": [
    {
     "data": {
      "text/plain": [
       "count        200\n",
       "unique         2\n",
       "top       Python\n",
       "freq         110\n",
       "Name: linguagem, dtype: object"
      ]
     },
     "execution_count": 4,
     "metadata": {},
     "output_type": "execute_result"
    }
   ],
   "source": [
    "# descrição da coluna\n",
    "reviews.linguagem.describe()"
   ]
  },
  {
   "cell_type": "code",
   "execution_count": 6,
   "metadata": {},
   "outputs": [
    {
     "data": {
      "text/plain": [
       "count       200\n",
       "unique       18\n",
       "top       Blues\n",
       "freq         16\n",
       "Name: genero_musical, dtype: object"
      ]
     },
     "execution_count": 6,
     "metadata": {},
     "output_type": "execute_result"
    }
   ],
   "source": [
    "# descrição da coluna\n",
    "reviews.genero_musical.describe()"
   ]
  },
  {
   "cell_type": "code",
   "execution_count": 8,
   "metadata": {},
   "outputs": [
    {
     "data": {
      "text/plain": [
       "44.275"
      ]
     },
     "execution_count": 8,
     "metadata": {},
     "output_type": "execute_result"
    }
   ],
   "source": [
    "# valor médio \n",
    "reviews.idade.mean()"
   ]
  },
  {
   "cell_type": "code",
   "execution_count": 11,
   "metadata": {},
   "outputs": [
    {
     "data": {
      "text/plain": [
       "array(['Espírito Santo', 'Rondônia', 'Minas Gerais', 'Amazonas',\n",
       "       'Distrito Federal', 'Amapá', 'Pernambuco', 'Rio de Janeiro',\n",
       "       'Santa Catarina', 'Paraíba', 'São Paulo', 'Goiás', 'Paraná',\n",
       "       'Acre', 'Roraima', 'Mato Grosso', 'Bahia', 'Mato Grosso do Sul',\n",
       "       'Rio Grande do Norte', 'Piauí', 'Alagoas', 'Tocantins', 'Ceará',\n",
       "       'Pará', 'Maranhão', 'Rio Grande do Sul', 'Sergipe'], dtype=object)"
      ]
     },
     "execution_count": 11,
     "metadata": {},
     "output_type": "execute_result"
    }
   ],
   "source": [
    "# valores unicos\n",
    "reviews.estado.unique()"
   ]
  },
  {
   "cell_type": "code",
   "execution_count": 13,
   "metadata": {},
   "outputs": [
    {
     "data": {
      "text/plain": [
       "Blues              16\n",
       "MPB                15\n",
       "Eletrônica         15\n",
       "Rock               14\n",
       "Gospel             13\n",
       "Sertanejo          13\n",
       "Funk               13\n",
       "Country            12\n",
       "Hip Hop            11\n",
       "Pop                11\n",
       "Samba              11\n",
       "Rap                10\n",
       "Reggae              9\n",
       "Forró               9\n",
       "Jazz                8\n",
       "Axé                 7\n",
       "Música clássica     7\n",
       "Pagode              6\n",
       "Name: genero_musical, dtype: int64"
      ]
     },
     "execution_count": 13,
     "metadata": {},
     "output_type": "execute_result"
    }
   ],
   "source": [
    "# Para ver uma lista de valores únicos e com que frequência eles ocorrem no conjunto de dados, \n",
    "# podemos usar o método value_counts ():\n",
    "reviews.genero_musical.value_counts()"
   ]
  },
  {
   "cell_type": "code",
   "execution_count": null,
   "metadata": {},
   "outputs": [],
   "source": []
  },
  {
   "cell_type": "code",
   "execution_count": null,
   "metadata": {},
   "outputs": [],
   "source": []
  }
 ],
 "metadata": {
  "kernelspec": {
   "display_name": "Python 3",
   "language": "python",
   "name": "python3"
  },
  "language_info": {
   "codemirror_mode": {
    "name": "ipython",
    "version": 3
   },
   "file_extension": ".py",
   "mimetype": "text/x-python",
   "name": "python",
   "nbconvert_exporter": "python",
   "pygments_lexer": "ipython3",
   "version": "3.8.5"
  }
 },
 "nbformat": 4,
 "nbformat_minor": 4
}
